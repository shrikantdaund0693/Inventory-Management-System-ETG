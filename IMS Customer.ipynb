{
 "cells": [
  {
   "cell_type": "code",
   "execution_count": 1,
   "metadata": {},
   "outputs": [],
   "source": [
    "from datetime import date"
   ]
  },
  {
   "cell_type": "code",
   "execution_count": 10,
   "metadata": {},
   "outputs": [],
   "source": [
    "import json"
   ]
  },
  {
   "cell_type": "code",
   "execution_count": 12,
   "metadata": {},
   "outputs": [],
   "source": [
    "def readFileData():\n",
    "    fh = open('products.json','r')\n",
    "    products = json.loads(fh.read())\n",
    "    fh.close()\n",
    "    return products"
   ]
  },
  {
   "cell_type": "code",
   "execution_count": 13,
   "metadata": {},
   "outputs": [],
   "source": [
    "def updateFile(data):\n",
    "    fh = open('products.json','w')\n",
    "    jsonData = json.dumps(data)\n",
    "    fh.write(jsonData)\n",
    "    fh.close()"
   ]
  },
  {
   "cell_type": "code",
   "execution_count": 14,
   "metadata": {},
   "outputs": [],
   "source": [
    "def today():\n",
    "    month = date.today().month\n",
    "    return [month,date.today().year]"
   ]
  },
  {
   "cell_type": "code",
   "execution_count": 33,
   "metadata": {},
   "outputs": [],
   "source": [
    "def isexpired(id):\n",
    "    todays = today()\n",
    "    products = readFileData()\n",
    "    if(products[id]['product_exp_date']!=''):        \n",
    "        exp = products[id]['product_exp_date'].split('/')\n",
    "        for i in range(len(exp)):\n",
    "            exp[i] = int(exp[i])    \n",
    "        \n",
    "        exp_month = exp[0]\n",
    "        exp_year = exp[1]\n",
    "        current_month = todays[0]\n",
    "        current_year = todays[1]\n",
    "\n",
    "        if(exp_year < current_year):\n",
    "            return True\n",
    "        elif(exp_year==current_year):\n",
    "            if(exp_month <= current_month):\n",
    "                return True\n",
    "            else:\n",
    "                return False\n",
    "        else:\n",
    "            return False\n",
    "    else:\n",
    "        return False"
   ]
  },
  {
   "cell_type": "code",
   "execution_count": 26,
   "metadata": {},
   "outputs": [],
   "source": [
    "def generateBill(id,name,quantity,price,subtotal):\n",
    "    print(\"\\n\\n********************** Shrikant Mall *************************\")\n",
    "    print()\n",
    "    sells_data_row = str(id)+\"\\t\\t\"+str(name)+\"\\t\\t\"+str(quantity)+\" x \"+str(price)\n",
    "    enterSellsReport(sells_data_row)\n",
    "    print(sells_data_row)\n",
    "    print()\n",
    "    print(\"--------------------------------------------------------------\")\n",
    "    print(\"\\t\\t\\t\\t\\t\"+str(subtotal)+\" RS\")\n",
    "    print(\"\\n\")\n",
    "    print(\"**************** Thank you for shopping with Us :) **************\")"
   ]
  },
  {
   "cell_type": "code",
   "execution_count": 30,
   "metadata": {},
   "outputs": [],
   "source": [
    "def enterSellsReport(data):\n",
    "    data = data + '\\t\\t' + str(date.today())\n",
    "    fh = open('sells.txt','a')\n",
    "    fh.write(data+\"\\n\")\n",
    "    fh.close()"
   ]
  },
  {
   "cell_type": "code",
   "execution_count": 36,
   "metadata": {},
   "outputs": [],
   "source": [
    "def buy(id,quant):\n",
    "    id = str(id)\n",
    "    subtotal = 0\n",
    "    status = False\n",
    "    products = readFileData()\n",
    "    available = products[id]['product_quantity']\n",
    "    if(isexpired(id)):    \n",
    "        print(\"Product You Looking for is Expired\\nSorry for inconvenience caused :( \")\n",
    "        status = False\n",
    "    else:\n",
    "        if(quant>available):\n",
    "\n",
    "            if(available>0):\n",
    "                print('Available Quantity is less')\n",
    "                print(\"Do you want to buy \"+str(available)+\" quantities(yes/no)\\t\")\n",
    "                choice = input()\n",
    "                if(choice==\"yes\" or choice==\"y\"):\n",
    "                    subtotal = available* float(products[id]['product_price'])\n",
    "                    available = 0\n",
    "                    generateBill(id,products[id]['product_name'],products[id]['product_quantity'],products[id]['product_price'],subtotal)\n",
    "                    status = True\n",
    "                else:\n",
    "                    print(\"Sorry for inconvenience caused :( \")\n",
    "                    status = False\n",
    "            else:\n",
    "                print(\"Product You Looking for is out of stock\\nSorry for inconvenience caused :( \")\n",
    "                status = False\n",
    "\n",
    "        else:\n",
    "            subtotal = quant* float(products[id]['product_price'])\n",
    "            available -= quant\n",
    "            generateBill(id,products[id]['product_name'],quant,products[id]['product_price'],subtotal)\n",
    "            status = True\n",
    "    \n",
    "        products[id]['product_quantity'] = available\n",
    "        updateFile(products)\n",
    "    \n",
    "    return status"
   ]
  },
  {
   "cell_type": "code",
   "execution_count": 20,
   "metadata": {},
   "outputs": [],
   "source": [
    "def getAllProducts():\n",
    "    products = readFileData()\n",
    "    print(\"ProductId\\t\\tProductName\\t\\tProductPrice\\t\\tProductQuantity\")\n",
    "    for product in products:\n",
    "        print(product+\"\\t\\t\\t\"+products[product]['product_name']+\"\\t\\t\\t\"+str(products[product]['product_price'])+\n",
    "              \"\\t\\t\\t\"+str(products[product]['product_quantity']))\n",
    "        print()"
   ]
  },
  {
   "cell_type": "code",
   "execution_count": 21,
   "metadata": {},
   "outputs": [],
   "source": [
    "def main():\n",
    "    print(\"********************* Welcome to Shrikant Mall *********************\")\n",
    "    print(\"\\nEnter Choice of operation you want to perform\")\n",
    "    print(\"1. See List of product\")\n",
    "    print(\"2. Buy new product\")\n",
    "    print(\"3. Exit\")\n",
    "    \n",
    "    c=1\n",
    "        \n",
    "    while(c):\n",
    "        \n",
    "        choice = int(input(\"Enter Your Choice:\\t\"))\n",
    "        if choice==1:\n",
    "            getAllProducts()\n",
    "        elif choice==2:\n",
    "            id = input(\"Enter product ID:\\t\")\n",
    "            quant = int(input(\"Enter quantity to buy:\\t\"))\n",
    "            buy(id,quant)\n",
    "        elif choice==3:\n",
    "            break\n",
    "        else:\n",
    "            print(\"Enter Correct choice\")\n",
    "            continue\n",
    "        \n",
    "        c = int(input(\"Do you want to continue again(1/0)\"))"
   ]
  },
  {
   "cell_type": "code",
   "execution_count": 23,
   "metadata": {},
   "outputs": [
    {
     "name": "stdout",
     "output_type": "stream",
     "text": [
      "********************* Welcome to Shrikant Mall *********************\n",
      "\n",
      "Enter Choice of operation you want to perform\n",
      "1. See List of product\n",
      "2. Buy new product\n",
      "3. Exit\n",
      "Enter Your Choice:\t1\n",
      "ProductId\t\tProductName\t\tProductPrice\t\tProductQuantity\n",
      "1\t\t\tEarphone\t\t\t499.0\t\t\t60\n",
      "\n",
      "2\t\t\tEarbuds\t\t\t899.0\t\t\t52\n",
      "\n",
      "3\t\t\tcolgate\t\t\t20.0\t\t\t54\n",
      "\n",
      "4\t\t\t5 star\t\t\t15.0\t\t\t65\n",
      "\n",
      "5\t\t\tApple\t\t\t12.0\t\t\t5\n",
      "\n",
      "6\t\t\tSlice\t\t\t35.0\t\t\t65\n",
      "\n",
      "7\t\t\tFruty\t\t\t20.0\t\t\t15\n",
      "\n",
      "8\t\t\tSprite\t\t\t10.0\t\t\t27\n",
      "\n",
      "9\t\t\tVaseline\t\t\t42.0\t\t\t15\n",
      "\n",
      "10\t\t\tPC Mouse\t\t\t699.0\t\t\t8\n",
      "\n",
      "11\t\t\tKeyboard\t\t\t3999.0\t\t\t16\n",
      "\n",
      "12\t\t\tMobile Charger\t\t\t856.0\t\t\t23\n",
      "\n",
      "13\t\t\tSanitizer\t\t\t156.0\t\t\t45\n",
      "\n",
      "14\t\t\tMask\t\t\t30.0\t\t\t150\n",
      "\n",
      "15\t\t\tHelmet\t\t\t500.0\t\t\t53\n",
      "\n",
      "16\t\t\tChair\t\t\t465.0\t\t\t15\n",
      "\n",
      "17\t\t\tCooler\t\t\t10500.0\t\t\t8\n",
      "\n",
      "18\t\t\tTable Fan\t\t\t1600.0\t\t\t15\n",
      "\n",
      "19\t\t\tTravel Bag\t\t\t1999.0\t\t\t12\n",
      "\n",
      "20\t\t\tTable Lamps\t\t\t15099.0\t\t\t4\n",
      "\n",
      "21\t\t\tGreen Tea\t\t\t150.0\t\t\t5\n",
      "\n",
      "22\t\t\tTaj tea\t\t\t149.0\t\t\t25\n",
      "\n",
      "23\t\t\tBike battery\t\t\t3950.0\t\t\t5\n",
      "\n",
      "24\t\t\tdish NXT\t\t\t1299.0\t\t\t45\n",
      "\n",
      "25\t\t\tparale-G\t\t\t10.0\t\t\t48\n",
      "\n",
      "26\t\t\tTiger\t\t\t5.0\t\t\t86\n",
      "\n",
      "27\t\t\tCoconut Oil \t\t\t59.0\t\t\t23\n",
      "\n",
      "28\t\t\tFair and Lovely\t\t\t84.0\t\t\t52\n",
      "\n",
      "29\t\t\tDettol Soap\t\t\t24.0\t\t\t56\n",
      "\n",
      "30\t\t\tSweets\t\t\t450.0\t\t\t12\n",
      "\n",
      "31\t\t\tKeyChain\t\t\t25.0\t\t\t52\n",
      "\n",
      "32\t\t\tMaza\t\t\t35.0\t\t\t23\n",
      "\n",
      "Do you want to continue again(1/0)1\n",
      "Enter Your Choice:\t2\n",
      "Enter product ID:\t1\n",
      "Enter quantity to buy:\t50\n",
      "\n",
      "\n",
      "********************** Shrikant Mall *************************\n",
      "\n",
      "1\t\tEarphone\t\t50 x 499.0\n",
      "\n",
      "--------------------------------------------------------------\n",
      "\t\t\t\t\t24950.0 RS\n",
      "\n",
      "\n",
      "**************** Thank you for shopping with Us :) **************\n",
      "Do you want to continue again(1/0)0\n"
     ]
    }
   ],
   "source": [
    "main()"
   ]
  },
  {
   "cell_type": "code",
   "execution_count": 31,
   "metadata": {},
   "outputs": [
    {
     "name": "stdout",
     "output_type": "stream",
     "text": [
      "********************* Welcome to Shrikant Mall *********************\n",
      "\n",
      "Enter Choice of operation you want to perform\n",
      "1. See List of product\n",
      "2. Buy new product\n",
      "3. Exit\n",
      "Enter Your Choice:\t2\n",
      "Enter product ID:\t1\n",
      "Enter quantity to buy:\t2\n",
      "\n",
      "\n",
      "********************** Shrikant Mall *************************\n",
      "\n",
      "1\t\tEarphone\t\t2 x 499.0\n",
      "\n",
      "--------------------------------------------------------------\n",
      "\t\t\t\t\t998.0 RS\n",
      "\n",
      "\n",
      "**************** Thank you for shopping with Us :) **************\n",
      "Do you want to continue again(1/0)0\n"
     ]
    }
   ],
   "source": [
    "main()"
   ]
  },
  {
   "cell_type": "code",
   "execution_count": 34,
   "metadata": {},
   "outputs": [
    {
     "name": "stdout",
     "output_type": "stream",
     "text": [
      "********************* Welcome to Shrikant Mall *********************\n",
      "\n",
      "Enter Choice of operation you want to perform\n",
      "1. See List of product\n",
      "2. Buy new product\n",
      "3. Exit\n",
      "Enter Your Choice:\t2\n",
      "Enter product ID:\t25\n",
      "Enter quantity to buy:\t20\n",
      "\n",
      "\n",
      "********************** Shrikant Mall *************************\n",
      "\n",
      "25\t\tparale-G\t\t20 x 10.0\n",
      "\n",
      "--------------------------------------------------------------\n",
      "\t\t\t\t\t200.0 RS\n",
      "\n",
      "\n",
      "**************** Thank you for shopping with Us :) **************\n",
      "Do you want to continue again(1/0)0\n"
     ]
    }
   ],
   "source": [
    "main()"
   ]
  },
  {
   "cell_type": "code",
   "execution_count": 37,
   "metadata": {},
   "outputs": [
    {
     "name": "stdout",
     "output_type": "stream",
     "text": [
      "********************* Welcome to Shrikant Mall *********************\n",
      "\n",
      "Enter Choice of operation you want to perform\n",
      "1. See List of product\n",
      "2. Buy new product\n",
      "3. Exit\n",
      "Enter Your Choice:\t2\n",
      "Enter product ID:\t1\n",
      "Enter quantity to buy:\t100\n",
      "Available Quantity is less\n",
      "Do you want to buy 8 quantities(yes/no)\t\n",
      "yes\n",
      "\n",
      "\n",
      "********************** Shrikant Mall *************************\n",
      "\n",
      "1\t\tEarphone\t\t8 x 499.0\n",
      "\n",
      "--------------------------------------------------------------\n",
      "\t\t\t\t\t3992.0 RS\n",
      "\n",
      "\n",
      "**************** Thank you for shopping with Us :) **************\n",
      "Do you want to continue again(1/0)0\n"
     ]
    }
   ],
   "source": [
    "main()"
   ]
  },
  {
   "cell_type": "code",
   "execution_count": null,
   "metadata": {},
   "outputs": [],
   "source": []
  }
 ],
 "metadata": {
  "kernelspec": {
   "display_name": "Python 3",
   "language": "python",
   "name": "python3"
  },
  "language_info": {
   "codemirror_mode": {
    "name": "ipython",
    "version": 3
   },
   "file_extension": ".py",
   "mimetype": "text/x-python",
   "name": "python",
   "nbconvert_exporter": "python",
   "pygments_lexer": "ipython3",
   "version": "3.8.3"
  }
 },
 "nbformat": 4,
 "nbformat_minor": 4
}
