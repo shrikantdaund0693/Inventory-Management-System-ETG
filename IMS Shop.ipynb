{
 "cells": [
  {
   "cell_type": "markdown",
   "metadata": {},
   "source": [
    "# Inventory Management System For Shop"
   ]
  },
  {
   "cell_type": "code",
   "execution_count": 43,
   "metadata": {},
   "outputs": [],
   "source": [
    "import json"
   ]
  },
  {
   "cell_type": "code",
   "execution_count": 44,
   "metadata": {},
   "outputs": [],
   "source": [
    "def readFileData():\n",
    "    fh = open('products.json','r')\n",
    "    products = json.loads(fh.read())\n",
    "    fh.close()\n",
    "    return products"
   ]
  },
  {
   "cell_type": "code",
   "execution_count": 45,
   "metadata": {},
   "outputs": [],
   "source": [
    "def updateFile(data):\n",
    "    fh = open('products.json','w')\n",
    "    jsonData = json.dumps(data)\n",
    "    fh.write(jsonData)\n",
    "    fh.close()"
   ]
  },
  {
   "cell_type": "code",
   "execution_count": 46,
   "metadata": {},
   "outputs": [],
   "source": [
    "def setNewProduct():\n",
    "    # getting last product ID\n",
    "    \n",
    "    lst = list(readFileData().keys())\n",
    "    for i in range(len(lst)):\n",
    "        lst[i] = int(lst[i])\n",
    "    lst.sort()\n",
    "    product_id = lst[len(lst)-1] + 1\n",
    "    \n",
    "    product_name = input(\"Enter Product Name:\\t\")\n",
    "    product_price = float(input(\"Enter price per product:\\t\"))\n",
    "    product_quantity = int(input(\"Enter total available quantity of product:\\t\"))\n",
    "    product_pkg_date = input(\"Enter Package date of product(in mm/yyyy format):\\t\")\n",
    "    product_exp_date = input(\"Enter Expiry date of product(in mm/yyyy format)(empty if not applicable):\\t\")\n",
    "    print(\"\\n\")\n",
    "    \n",
    "    new_product = {\"product_name\":product_name,\"product_price\":product_price,\"product_quantity\":product_quantity,\n",
    "            \"product_pkg_date\":product_pkg_date,\"product_exp_date\":product_exp_date}\n",
    "    \n",
    "    return product_id,new_product"
   ]
  },
  {
   "cell_type": "code",
   "execution_count": 47,
   "metadata": {},
   "outputs": [],
   "source": [
    "def addNewProduct():\n",
    "    #getting all available products from file\n",
    "    \n",
    "    products = readFileData()\n",
    "    \n",
    "    new_product = setNewProduct()\n",
    "    \n",
    "    #appending new product to existing products\n",
    "    \n",
    "    products[str(new_product[0])] = new_product[1]\n",
    "    \n",
    "    #Updating the file\n",
    "    \n",
    "    updateFile(products)\n",
    "    \n",
    "    print(\"New Product Added Successfully...\")"
   ]
  },
  {
   "cell_type": "code",
   "execution_count": 50,
   "metadata": {},
   "outputs": [],
   "source": [
    "def getOutofstocks():\n",
    "    products = readFileData()\n",
    "    outofstocks = []\n",
    "    for product in products:\n",
    "        if(products[product]['product_quantity']==0):\n",
    "            outofstocks.append([product , products[product]['product_name']])\n",
    "    if(len(outofstocks)==0):\n",
    "        print(\"No Product is out of stocks\")\n",
    "    else:\n",
    "        for product in outofstocks:\n",
    "            print(product[0]+\"\\t\"+product[1])"
   ]
  },
  {
   "cell_type": "code",
   "execution_count": 72,
   "metadata": {},
   "outputs": [],
   "source": [
    "def getAllExistingProducts():\n",
    "    products = readFileData()\n",
    "    print(\"ProductId\\t\\tProductName\\t\\tProductPrice\\t\\tProductQuantity\")\n",
    "    for product in products:\n",
    "        print(product+\"\\t\\t\\t\"+products[product]['product_name']+\"\\t\\t\\t\"+str(products[product]['product_price'])+\n",
    "              \"\\t\\t\\t\"+str(products[product]['product_quantity']))\n",
    "        print()"
   ]
  },
  {
   "cell_type": "code",
   "execution_count": 91,
   "metadata": {},
   "outputs": [],
   "source": [
    "def updateProductPrice():\n",
    "    products = readFileData()\n",
    "    id = input(\"Enter product ID to update price:\\t\")\n",
    "    for product in products:\n",
    "        if(id==product):\n",
    "            print(\"Existing price of a product:\\t\"+str(products[product]['product_price']))\n",
    "            new_price = float(input(\"\\nEnter Updated price for product: \"+str(products[product]['product_name'])+\" \"))\n",
    "            products[product]['product_price'] = new_price\n",
    "            updateFile(products)\n",
    "            print(\"\\nProduct Price updated Successfully...\")\n",
    "            return True\n",
    "    else:\n",
    "        print(\"The product you are looking for does not exist\\n\")\n",
    "        return False\n",
    "    "
   ]
  },
  {
   "cell_type": "code",
   "execution_count": 99,
   "metadata": {},
   "outputs": [],
   "source": [
    "def addProductQuantity():\n",
    "    #add new stock quantity to existing\n",
    "    products = readFileData()\n",
    "    id = input(\"Enter product ID to add new stock quantity:\\t\")\n",
    "    for product in products:\n",
    "        if(id==product):\n",
    "            print(\"Existing Quantity of a product:\\t\"+str(products[product]['product_quantity']))\n",
    "            new_q = int(input(\"\\nEnter new stock quantity: \"+str(products[product]['product_name'])+\" \"))\n",
    "            products[product]['product_quantity'] += new_q\n",
    "            updateFile(products)\n",
    "            print(\"Updated Quantity:\\t\"+str(products[product]['product_quantity']))\n",
    "            print(\"\\nProduct Quantity updated Successfully...\")\n",
    "            return True\n",
    "    else:\n",
    "        print(\"The product you are looking for does not exist\\n\")\n",
    "        choice = input(\"Do you want to add this as a new product:(yes/no)\\t\")\n",
    "        if(choice==\"yes\" or choice == \"y\"):\n",
    "            addNewProduct()\n",
    "        else:\n",
    "            return False\n",
    "        return False"
   ]
  },
  {
   "cell_type": "code",
   "execution_count": 103,
   "metadata": {},
   "outputs": [],
   "source": [
    "def main():\n",
    "    print(\"********************* Welcome to Shrikant Mall *********************\\n\\n\")\n",
    "    print(\"Enter Choice of operation you want to perform\")\n",
    "    print(\"1. Add new product\")\n",
    "    print(\"2. Get all products which are out of stocks\")\n",
    "    print(\"3. Get sells report\")\n",
    "    print(\"4. Get all products\")\n",
    "    print(\"5. Update existing product price\")\n",
    "    print(\"6. add new stock quantity of existing products(updatedQuant = existing + new)\")\n",
    "    print(\"7. Exit\")\n",
    "    \n",
    "    c=1\n",
    "        \n",
    "    while(c):\n",
    "        \n",
    "        choice = int(input(\"Enter Your Choice:\\t\"))\n",
    "        \n",
    "        if choice==1:\n",
    "            addNewProduct()\n",
    "        elif choice==2:\n",
    "            getOutofstocks()\n",
    "        elif choice==3:\n",
    "            getSellsReport()\n",
    "        elif choice==4:\n",
    "            getAllExistingProducts()   \n",
    "        elif choice==5:\n",
    "            updateProductPrice()   \n",
    "        elif choice==6:\n",
    "            addProductQuantity()   \n",
    "        elif choice==7:\n",
    "            break\n",
    "        else:\n",
    "            print(\"Enter Correct choice\")\n",
    "            continue\n",
    "        \n",
    "        c = int(input(\"Do you want to continue again(1/0)\"))"
   ]
  },
  {
   "cell_type": "code",
   "execution_count": 104,
   "metadata": {},
   "outputs": [],
   "source": [
    "def getSellsReport():\n",
    "    fh = open('sells.txt','r')\n",
    "    data = fh.read()\n",
    "    print(data)\n",
    "    fh.close()"
   ]
  },
  {
   "cell_type": "code",
   "execution_count": 101,
   "metadata": {},
   "outputs": [
    {
     "name": "stdout",
     "output_type": "stream",
     "text": [
      "********************* Welcome to Shrikant Mall *********************\n",
      "\n",
      "\n",
      "Enter Choice of operation you want to perform\n",
      "1. Add new product\n",
      "2. Get all products which are out of stocks\n",
      "3. Get sells report\n",
      "4. Get all products\n",
      "5. Update existing product price\n",
      "6. add new stock quantity of existing products(updatedQuant = existing + new)\n",
      "7. Exit\n",
      "Enter Your Choice:\t1\n",
      "Enter Product Name:\tMaza\n",
      "Enter price per product:\t35\n",
      "Enter total available quantity of product:\t23\n",
      "Enter Package date of product(in mm/yyyy format):\t09/2021\n",
      "Enter Expiry date of product(in mm/yyyy format)(empty if not applicable):\t08/2022\n",
      "\n",
      "\n",
      "New Product Added Successfully...\n",
      "Do you want to continue again(1/0)1\n",
      "Enter Your Choice:\t2\n",
      "No Product is out of stocks\n",
      "Do you want to continue again(1/0)1\n",
      "Enter Your Choice:\t4\n",
      "ProductId\t\tProductName\t\tProductPrice\t\tProductQuantity\n",
      "1\t\t\tEarphone\t\t\t599.0\t\t\t50\n",
      "\n",
      "2\t\t\tEarbuds\t\t\t899.0\t\t\t52\n",
      "\n",
      "3\t\t\tcolgate\t\t\t20.0\t\t\t54\n",
      "\n",
      "4\t\t\t5 star\t\t\t15.0\t\t\t65\n",
      "\n",
      "5\t\t\tApple\t\t\t12.0\t\t\t5\n",
      "\n",
      "6\t\t\tSlice\t\t\t35.0\t\t\t65\n",
      "\n",
      "7\t\t\tFruty\t\t\t20.0\t\t\t15\n",
      "\n",
      "8\t\t\tSprite\t\t\t10.0\t\t\t27\n",
      "\n",
      "9\t\t\tVaseline\t\t\t42.0\t\t\t15\n",
      "\n",
      "10\t\t\tPC Mouse\t\t\t699.0\t\t\t8\n",
      "\n",
      "11\t\t\tKeyboard\t\t\t3999.0\t\t\t16\n",
      "\n",
      "12\t\t\tMobile Charger\t\t\t856.0\t\t\t23\n",
      "\n",
      "13\t\t\tSanitizer\t\t\t156.0\t\t\t45\n",
      "\n",
      "14\t\t\tMask\t\t\t30.0\t\t\t150\n",
      "\n",
      "15\t\t\tHelmet\t\t\t500.0\t\t\t53\n",
      "\n",
      "16\t\t\tChair\t\t\t465.0\t\t\t15\n",
      "\n",
      "17\t\t\tCooler\t\t\t10500.0\t\t\t8\n",
      "\n",
      "18\t\t\tTable Fan\t\t\t1600.0\t\t\t15\n",
      "\n",
      "19\t\t\tTravel Bag\t\t\t1999.0\t\t\t12\n",
      "\n",
      "20\t\t\tTable Lamps\t\t\t15099.0\t\t\t4\n",
      "\n",
      "21\t\t\tGreen Tea\t\t\t150.0\t\t\t5\n",
      "\n",
      "22\t\t\tTaj tea\t\t\t149.0\t\t\t25\n",
      "\n",
      "23\t\t\tBike battery\t\t\t3950.0\t\t\t5\n",
      "\n",
      "24\t\t\tdish NXT\t\t\t1299.0\t\t\t45\n",
      "\n",
      "25\t\t\tparale-G\t\t\t10.0\t\t\t48\n",
      "\n",
      "26\t\t\tTiger\t\t\t5.0\t\t\t86\n",
      "\n",
      "27\t\t\tCoconut Oil \t\t\t59.0\t\t\t23\n",
      "\n",
      "28\t\t\tFair and Lovely\t\t\t84.0\t\t\t52\n",
      "\n",
      "29\t\t\tDettol Soap\t\t\t24.0\t\t\t56\n",
      "\n",
      "30\t\t\tSweets\t\t\t450.0\t\t\t12\n",
      "\n",
      "31\t\t\tKeyChain\t\t\t25.0\t\t\t52\n",
      "\n",
      "32\t\t\tMaza\t\t\t35.0\t\t\t23\n",
      "\n",
      "Do you want to continue again(1/0)1\n",
      "Enter Your Choice:\t5\n",
      "Enter product ID to update price:\t1\n",
      "Existing price of a product:\t599.0\n",
      "\n",
      "Enter Updated price for product: Earphone 499\n",
      "\n",
      "Product Price updated Successfully...\n",
      "Do you want to continue again(1/0)1\n",
      "Enter Your Choice:\t6\n",
      "Enter product ID to add new stock quantity:\t1\n",
      "Existing Quantity of a product:\t50\n",
      "\n",
      "Enter new stock quantity: Earphone 10\n",
      "Updated Quantity:\t60\n",
      "\n",
      "Product Quantity updated Successfully...\n",
      "Do you want to continue again(1/0)0\n"
     ]
    }
   ],
   "source": [
    "main()"
   ]
  },
  {
   "cell_type": "code",
   "execution_count": 102,
   "metadata": {},
   "outputs": [
    {
     "name": "stdout",
     "output_type": "stream",
     "text": [
      "********************* Welcome to Shrikant Mall *********************\n",
      "\n",
      "\n",
      "Enter Choice of operation you want to perform\n",
      "1. Add new product\n",
      "2. Get all products which are out of stocks\n",
      "3. Get sells report\n",
      "4. Get all products\n",
      "5. Update existing product price\n",
      "6. add new stock quantity of existing products(updatedQuant = existing + new)\n",
      "7. Exit\n",
      "Enter Your Choice:\t2\n",
      "1\tEarphone\n",
      "15\tHelmet\n",
      "Do you want to continue again(1/0)0\n"
     ]
    }
   ],
   "source": [
    "main()"
   ]
  },
  {
   "cell_type": "code",
   "execution_count": 105,
   "metadata": {},
   "outputs": [
    {
     "name": "stdout",
     "output_type": "stream",
     "text": [
      "********************* Welcome to Shrikant Mall *********************\n",
      "\n",
      "\n",
      "Enter Choice of operation you want to perform\n",
      "1. Add new product\n",
      "2. Get all products which are out of stocks\n",
      "3. Get sells report\n",
      "4. Get all products\n",
      "5. Update existing product price\n",
      "6. add new stock quantity of existing products(updatedQuant = existing + new)\n",
      "7. Exit\n",
      "Enter Your Choice:\t3\n",
      "1\t\tEarphone\t\t2 x 499.0\t\t2021-09-03\n",
      "25\t\tparale-G\t\t20 x 10.0\t\t2021-09-03\n",
      "15\t\tHelmet\t\t10 x 500.0\t\t2021-09-03\n",
      "15\t\tHelmet\t\t43 x 500.0\t\t2021-09-03\n",
      "1\t\tEarphone\t\t8 x 499.0\t\t2021-09-03\n",
      "\n",
      "Do you want to continue again(1/0)0\n"
     ]
    }
   ],
   "source": [
    "main()"
   ]
  },
  {
   "cell_type": "code",
   "execution_count": null,
   "metadata": {},
   "outputs": [],
   "source": []
  }
 ],
 "metadata": {
  "kernelspec": {
   "display_name": "Python 3",
   "language": "python",
   "name": "python3"
  },
  "language_info": {
   "codemirror_mode": {
    "name": "ipython",
    "version": 3
   },
   "file_extension": ".py",
   "mimetype": "text/x-python",
   "name": "python",
   "nbconvert_exporter": "python",
   "pygments_lexer": "ipython3",
   "version": "3.8.3"
  }
 },
 "nbformat": 4,
 "nbformat_minor": 4
}
